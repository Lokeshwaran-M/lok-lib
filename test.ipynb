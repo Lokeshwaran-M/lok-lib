{
 "cells": [
  {
   "cell_type": "code",
   "execution_count": 1,
   "metadata": {},
   "outputs": [
    {
     "name": "stderr",
     "output_type": "stream",
     "text": [
      "/home/lokesh/.local/lib/python3.11/site-packages/whisper/timing.py:57: NumbaDeprecationWarning: \u001b[1mThe 'nopython' keyword argument was not supplied to the 'numba.jit' decorator. The implicit default value for this argument is currently False, but it will be changed to True in Numba 0.59.0. See https://numba.readthedocs.io/en/stable/reference/deprecation.html#deprecation-of-object-mode-fall-back-behaviour-when-using-jit for details.\u001b[0m\n",
      "  @numba.jit\n",
      "ALSA lib pcm.c:2666:(snd_pcm_open_noupdate) Unknown PCM cards.pcm.rear\n",
      "ALSA lib pcm.c:2666:(snd_pcm_open_noupdate) Unknown PCM cards.pcm.center_lfe\n",
      "ALSA lib pcm.c:2666:(snd_pcm_open_noupdate) Unknown PCM cards.pcm.side\n",
      "ALSA lib pcm_route.c:877:(find_matching_chmap) Found no matching channel map\n",
      "ALSA lib pcm_route.c:877:(find_matching_chmap) Found no matching channel map\n",
      "ALSA lib pcm_route.c:877:(find_matching_chmap) Found no matching channel map\n",
      "ALSA lib pcm_route.c:877:(find_matching_chmap) Found no matching channel map\n",
      "Cannot connect to server socket err = No such file or directory\n",
      "Cannot connect to server request channel\n",
      "jack server is not running or cannot be started\n",
      "JackShmReadWritePtr::~JackShmReadWritePtr - Init not done for -1, skipping unlock\n",
      "JackShmReadWritePtr::~JackShmReadWritePtr - Init not done for -1, skipping unlock\n",
      "Cannot connect to server socket err = No such file or directory\n",
      "Cannot connect to server request channel\n",
      "jack server is not running or cannot be started\n",
      "JackShmReadWritePtr::~JackShmReadWritePtr - Init not done for -1, skipping unlock\n",
      "JackShmReadWritePtr::~JackShmReadWritePtr - Init not done for -1, skipping unlock\n",
      "ALSA lib pcm_oss.c:397:(_snd_pcm_oss_open) Cannot open device /dev/dsp\n",
      "ALSA lib pcm_oss.c:397:(_snd_pcm_oss_open) Cannot open device /dev/dsp\n",
      "ALSA lib pcm_a52.c:1001:(_snd_pcm_a52_open) a52 is only for playback\n",
      "ALSA lib confmisc.c:160:(snd_config_get_card) Invalid field card\n",
      "ALSA lib pcm_usb_stream.c:482:(_snd_pcm_usb_stream_open) Invalid card 'card'\n",
      "ALSA lib confmisc.c:160:(snd_config_get_card) Invalid field card\n",
      "ALSA lib pcm_usb_stream.c:482:(_snd_pcm_usb_stream_open) Invalid card 'card'\n",
      "Cannot connect to server socket err = No such file or directory\n",
      "Cannot connect to server request channel\n",
      "jack server is not running or cannot be started\n",
      "JackShmReadWritePtr::~JackShmReadWritePtr - Init not done for -1, skipping unlock\n",
      "JackShmReadWritePtr::~JackShmReadWritePtr - Init not done for -1, skipping unlock\n"
     ]
    }
   ],
   "source": [
    "from loklib import speech_senth as ss\n",
    "from loklib import listen"
   ]
  },
  {
   "cell_type": "code",
   "execution_count": 2,
   "metadata": {},
   "outputs": [
    {
     "name": "stdout",
     "output_type": "stream",
     "text": [
      "Listening : \n",
      "processing : \n",
      "exception occurred : recognition connection failed: [Errno -2] Name or service not known\n",
      "res : [' Hey Joe.']\n",
      "cmd :  [' Hey Joe.']\n",
      "jam :  listned : [' Hey Joe.']\n",
      "Listening : \n",
      "processing : \n",
      "exception occurred : recognition connection failed: [Errno -2] Name or service not known\n",
      "res : [\" Are you next? We're going to play The\"]\n",
      "cmd :  [\" Are you next? We're going to play The\"]\n",
      "jam :  listned : [\" Are you next? We're going to play The\"]\n",
      "Listening : \n",
      "processing : \n",
      "exception occurred : recognition connection failed: [Errno -2] Name or service not known\n",
      "res : [\" Hey Joe, what's going on?\"]\n",
      "cmd :  [\" Hey Joe, what's going on?\"]\n",
      "jam :  listned : [\" Hey Joe, what's going on?\"]\n",
      "Listening : \n",
      "processing : \n",
      "exception occurred : recognition connection failed: [Errno -2] Name or service not known\n",
      "res : [\" Hey Joe, what's going on?\"]\n",
      "cmd :  [\" Hey Joe, what's going on?\"]\n",
      "jam :  listned : [\" Hey Joe, what's going on?\"]\n",
      "Listening : \n",
      "processing : \n",
      "exception occurred : recognition connection failed: [Errno -2] Name or service not known\n",
      "res : [\" He's in Today!\"]\n",
      "cmd :  [\" He's in Today!\"]\n",
      "jam :  listned : [\" He's in Today!\"]\n",
      "Listening : \n",
      "processing : \n",
      "exception occurred : recognition connection failed: [Errno -2] Name or service not known\n",
      "res : [' Okay Jon, J-']\n",
      "cmd :  [' Okay Jon, J-']\n",
      "jam :  listned : [' Okay Jon, J-']\n",
      "Listening : \n",
      "processing : \n",
      "exception occurred : recognition connection failed: [Errno -2] Name or service not known\n",
      "res : [' G-E-M-G-M.']\n",
      "cmd :  [' G-E-M-G-M.']\n",
      "jam :  listned : [' G-E-M-G-M.']\n",
      "Listening : \n",
      "processing : \n",
      "exception occurred : recognition connection failed: [Errno -2] Name or service not known\n",
      "res : [' Stop losing!']\n"
     ]
    }
   ],
   "source": [
    "def start():\n",
    "    while True:\n",
    "        ss.say(\"listening\")\n",
    "        pmt = str(listen.out(4))\n",
    "        \n",
    "        if \"stop\" in pmt.lower():\n",
    "            break\n",
    "        print(\"cmd : \",pmt)\n",
    "        res = f\"listned : {pmt}\"\n",
    "        print(\"jam : \",res)\n",
    "        ss.say(str(res))\n",
    "\n",
    "start()\n"
   ]
  },
  {
   "cell_type": "code",
   "execution_count": 3,
   "metadata": {},
   "outputs": [],
   "source": [
    "# listen.close_audio()"
   ]
  }
 ],
 "metadata": {
  "kernelspec": {
   "display_name": "Python 3",
   "language": "python",
   "name": "python3"
  },
  "language_info": {
   "codemirror_mode": {
    "name": "ipython",
    "version": 3
   },
   "file_extension": ".py",
   "mimetype": "text/x-python",
   "name": "python",
   "nbconvert_exporter": "python",
   "pygments_lexer": "ipython3",
   "version": "3.11.4"
  },
  "orig_nbformat": 4
 },
 "nbformat": 4,
 "nbformat_minor": 2
}
